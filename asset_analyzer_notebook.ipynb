{
 "cells": [
  {
   "cell_type": "markdown",
   "metadata": {},
   "source": [
    "### Notebook to test asset analyzer framework"
   ]
  },
  {
   "cell_type": "code",
   "execution_count": null,
   "metadata": {},
   "outputs": [],
   "source": [
    "from src.AssetAnalyzer.asset_analyzer import AssetAnalyzer\n",
    "import pandas as pd\n",
    "import os\n",
    "import json\n",
    "import openai"
   ]
  },
  {
   "cell_type": "code",
   "execution_count": null,
   "metadata": {},
   "outputs": [],
   "source": [
    "# Load in environment variables from config.json file\n",
    "with open('config.json') as config_file:\n",
    "    config = json.load(config_file)\n",
    "\n",
    "# OpenAI API access key\n",
    "openai.api_key = config['OPENAI_KEY']"
   ]
  },
  {
   "cell_type": "code",
   "execution_count": null,
   "metadata": {},
   "outputs": [],
   "source": [
    "# Set filepath variables\n",
    "entities_fp = \"data/isin_companies.csv\"\n",
    "assets_fp = \"data/asset_data.csv\"\n",
    "assets_df = pd.read_csv(assets_fp, keep_default_na=False)\n",
    "\n",
    "# Assets to analyze\n",
    "assets_df.head()"
   ]
  },
  {
   "cell_type": "code",
   "execution_count": null,
   "metadata": {},
   "outputs": [],
   "source": [
    "for index, row in assets_df.iterrows():\n",
    "    # Extract asset data\n",
    "    asset_name = row[\"name\"]\n",
    "    asset_ownership_name = row[\"asset_ownership_name\"]\n",
    "    country = row[\"country\"]\n",
    "\n",
    "    # Initialise AssetAnalyzer class\n",
    "    asset_analyzer = AssetAnalyzer(\n",
    "        entities_fp,\n",
    "        asset_name,\n",
    "        asset_ownership_name,\n",
    "        country,\n",
    "    )\n",
    "\n",
    "    # Data preprocessing\n",
    "    asset_analyzer.format_country_names()\n",
    "    asset_analyzer.remove_special_characters()\n",
    "\n",
    "    # Get company matches shortlist from fuzzy match\n",
    "    asset_analyzer.check_fuzzy_entity_matches('company_name', 60)\n",
    "\n",
    "    # Store potential matches in dataframe\n",
    "    assets_df.loc[index, \"Potential matches\"] = str(asset_analyzer.potential_matches)\n",
    "\n",
    "    # If potential matches are identified, use LLM to find closest match\n",
    "    if asset_analyzer.potential_matches:\n",
    "        match = asset_analyzer.check_llm_match()\n",
    "        assets_df.loc[index, \"LLM match\"] = str(match)\n",
    "        # Extract ISIN for company match\n",
    "        isin = asset_analyzer.match_company_to_isin('Entity ISIN', 'company_name', match)\n",
    "        assets_df.loc[index, \"ISIN match\"] = str(isin)\n"
   ]
  },
  {
   "cell_type": "code",
   "execution_count": null,
   "metadata": {},
   "outputs": [],
   "source": [
    "assets_df.to_csv('data/assets_with_matches.csv', encoding = 'utf-8')"
   ]
  }
 ],
 "metadata": {
  "kernelspec": {
   "display_name": "Python 3",
   "language": "python",
   "name": "python3"
  },
  "language_info": {
   "codemirror_mode": {
    "name": "ipython",
    "version": 3
   },
   "file_extension": ".py",
   "mimetype": "text/x-python",
   "name": "python",
   "nbconvert_exporter": "python",
   "pygments_lexer": "ipython3",
   "version": "3.10.11"
  }
 },
 "nbformat": 4,
 "nbformat_minor": 2
}
